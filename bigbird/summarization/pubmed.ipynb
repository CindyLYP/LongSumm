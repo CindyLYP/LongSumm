{
 "cells": [
  {
   "cell_type": "markdown",
   "metadata": {
    "id": "YONnGjpAYUdU"
   },
   "source": [
    "\n",
    "<a href=\"https://colab.research.google.com/github/google-research/bigbird/blob/master/bigbird/summarization/pubmed.ipynb\" target=\"_parent\"><img src=\"https://colab.research.google.com/assets/colab-badge.svg\" alt=\"Open In Colab\"/></a>"
   ]
  },
  {
   "cell_type": "markdown",
   "metadata": {
    "id": "zrtR2urJV3ST"
   },
   "source": [
    "##### Copyright 2020 The BigBird Authors\n",
    "\n",
    "Licensed under the Apache License, Version 2.0 (the \"License\");"
   ]
  },
  {
   "cell_type": "code",
   "execution_count": 1,
   "metadata": {
    "id": "xyasTfa-LVLe",
    "pycharm": {
     "is_executing": false
    }
   },
   "outputs": [],
   "source": [
    "# Copyright 2020 The BigBird Authors. All Rights Reserved.\n",
    "#\n",
    "# Licensed under the Apache License, Version 2.0 (the \"License\");\n",
    "# you may not use this file except in compliance with the License.\n",
    "# You may obtain a copy of the License at\n",
    "#\n",
    "#     http://www.apache.org/licenses/LICENSE-2.0\n",
    "#\n",
    "# Unless required by applicable law or agreed to in writing, software\n",
    "# distributed under the License is distributed on an \"AS IS\" BASIS,\n",
    "# WITHOUT WARRANTIES OR CONDITIONS OF ANY KIND, either express or implied.\n",
    "# See the License for the specific language governing permissions and\n",
    "# limitations under the License.\n",
    "# =============================================================================="
   ]
  },
  {
   "cell_type": "markdown",
   "metadata": {
    "id": "fcZZRDx505hq"
   },
   "source": [
    "## Set Up"
   ]
  },
  {
   "cell_type": "code",
   "execution_count": null,
   "metadata": {
    "id": "N94UyOdA0mCO"
   },
   "outputs": [],
   "source": [
    "!pip install git+https://github.com/google-research/bigbird.git -q"
   ]
  },
  {
   "cell_type": "code",
   "execution_count": 6,
   "outputs": [
    {
     "data": {
      "text/plain": "'/home/gitlib/longsumm'"
     },
     "metadata": {},
     "output_type": "execute_result",
     "execution_count": 6
    }
   ],
   "source": [
    "import os\n",
    "os.chdir(\"/home/gitlib/longsumm\")\n",
    "os.getcwd()"
   ],
   "metadata": {
    "collapsed": false,
    "pycharm": {
     "name": "#%%\n",
     "is_executing": false
    }
   }
  },
  {
   "cell_type": "code",
   "execution_count": 8,
   "metadata": {
    "id": "0irPwcbBYvDV",
    "pycharm": {
     "is_executing": false
    }
   },
   "outputs": [],
   "source": [
    "from bigbird.core import flags\n",
    "from bigbird.core import modeling\n",
    "from bigbird.core import utils\n",
    "from bigbird.summarization import run_summarization\n",
    "import tensorflow.compat.v2 as tf\n",
    "import tensorflow_datasets as tfds\n",
    "import tensorflow_text as tft\n",
    "from tqdm import tqdm\n",
    "import sys\n",
    "\n",
    "FLAGS = flags.FLAGS\n",
    "if not hasattr(FLAGS, \"f\"): flags.DEFINE_string(\"f\", \"\", \"\")\n",
    "FLAGS(sys.argv)\n",
    "\n",
    "tf.enable_v2_behavior()"
   ]
  },
  {
   "cell_type": "markdown",
   "metadata": {
    "id": "AJexg2zsxfHo"
   },
   "source": [
    "## Set options"
   ]
  },
  {
   "cell_type": "code",
   "execution_count": 9,
   "metadata": {
    "id": "rph2sJ75kBNA",
    "pycharm": {
     "is_executing": false
    }
   },
   "outputs": [],
   "source": [
    "FLAGS.data_dir = \"tfds://scientific_papers/pubmed\"\n",
    "FLAGS.attention_type = \"block_sparse\"\n",
    "FLAGS.couple_encoder_decoder = True\n",
    "FLAGS.max_encoder_length = 2048  # on free colab only lower memory GPU like T4 is available\n",
    "FLAGS.max_decoder_length = 256\n",
    "FLAGS.block_size = 64\n",
    "FLAGS.learning_rate = 1e-5\n",
    "FLAGS.num_train_steps = 10000\n",
    "FLAGS.attention_probs_dropout_prob = 0.0\n",
    "FLAGS.hidden_dropout_prob = 0.0\n",
    "FLAGS.vocab_model_file = \"gpt2\""
   ]
  },
  {
   "cell_type": "code",
   "execution_count": 10,
   "metadata": {
    "id": "zuxI3V_3j57Y",
    "pycharm": {
     "is_executing": false
    }
   },
   "outputs": [],
   "source": [
    "transformer_config = flags.as_dictionary()"
   ]
  },
  {
   "cell_type": "markdown",
   "metadata": {
    "id": "kRF4TUEQxjXJ"
   },
   "source": [
    "## Define summarization model"
   ]
  },
  {
   "cell_type": "code",
   "execution_count": 11,
   "metadata": {
    "id": "5RX4ow05URf8",
    "pycharm": {
     "is_executing": false
    }
   },
   "outputs": [],
   "source": [
    "from tensorflow.python.ops.variable_scope import EagerVariableStore\n",
    "container = EagerVariableStore()"
   ]
  },
  {
   "cell_type": "code",
   "execution_count": 12,
   "metadata": {
    "id": "J3yNdo5toQwq",
    "pycharm": {
     "is_executing": false
    }
   },
   "outputs": [
    {
     "traceback": [
      "\u001b[0;31m---------------------------------------------------------------------------\u001b[0m",
      "\u001b[0;31mInternalError\u001b[0m                             Traceback (most recent call last)",
      "\u001b[0;32m<ipython-input-12-302282743bdd>\u001b[0m in \u001b[0;36m<module>\u001b[0;34m\u001b[0m\n\u001b[1;32m      1\u001b[0m \u001b[0;32mwith\u001b[0m \u001b[0mcontainer\u001b[0m\u001b[0;34m.\u001b[0m\u001b[0mas_default\u001b[0m\u001b[0;34m(\u001b[0m\u001b[0;34m)\u001b[0m\u001b[0;34m:\u001b[0m\u001b[0;34m\u001b[0m\u001b[0;34m\u001b[0m\u001b[0m\n\u001b[0;32m----> 2\u001b[0;31m   \u001b[0mmodel\u001b[0m \u001b[0;34m=\u001b[0m \u001b[0mmodeling\u001b[0m\u001b[0;34m.\u001b[0m\u001b[0mTransformerModel\u001b[0m\u001b[0;34m(\u001b[0m\u001b[0mtransformer_config\u001b[0m\u001b[0;34m)\u001b[0m\u001b[0;34m\u001b[0m\u001b[0;34m\u001b[0m\u001b[0m\n\u001b[0m\u001b[1;32m      3\u001b[0m \u001b[0;34m\u001b[0m\u001b[0m\n",
      "\u001b[0;32m/home/gitlib/longsumm/bigbird/core/modeling.py\u001b[0m in \u001b[0;36m__init__\u001b[0;34m(self, params)\u001b[0m\n\u001b[1;32m    176\u001b[0m                 \u001b[0muse_position_embeddings\u001b[0m\u001b[0;34m=\u001b[0m\u001b[0;32mTrue\u001b[0m\u001b[0;34m,\u001b[0m\u001b[0;34m\u001b[0m\u001b[0;34m\u001b[0m\u001b[0m\n\u001b[1;32m    177\u001b[0m                 \u001b[0mmax_position_embeddings\u001b[0m\u001b[0;34m=\u001b[0m\u001b[0mself\u001b[0m\u001b[0;34m.\u001b[0m\u001b[0mparams\u001b[0m\u001b[0;34m[\u001b[0m\u001b[0;34m\"max_position_embeddings\"\u001b[0m\u001b[0;34m]\u001b[0m\u001b[0;34m,\u001b[0m\u001b[0;34m\u001b[0m\u001b[0;34m\u001b[0m\u001b[0m\n\u001b[0;32m--> 178\u001b[0;31m                 dropout_prob=self.params[\"hidden_dropout_prob\"])\n\u001b[0m\u001b[1;32m    179\u001b[0m             \u001b[0mself\u001b[0m\u001b[0;34m.\u001b[0m\u001b[0mencoder\u001b[0m \u001b[0;34m=\u001b[0m \u001b[0mencoder\u001b[0m\u001b[0;34m.\u001b[0m\u001b[0mEncoderStack\u001b[0m\u001b[0;34m(\u001b[0m\u001b[0mself\u001b[0m\u001b[0;34m.\u001b[0m\u001b[0mparams\u001b[0m\u001b[0;34m)\u001b[0m\u001b[0;34m\u001b[0m\u001b[0;34m\u001b[0m\u001b[0m\n\u001b[1;32m    180\u001b[0m             \u001b[0mself\u001b[0m\u001b[0;34m.\u001b[0m\u001b[0mdecoder\u001b[0m \u001b[0;34m=\u001b[0m \u001b[0mdecoder\u001b[0m\u001b[0;34m.\u001b[0m\u001b[0mDecoderStack\u001b[0m\u001b[0;34m(\u001b[0m\u001b[0mself\u001b[0m\u001b[0;34m.\u001b[0m\u001b[0mparams\u001b[0m\u001b[0;34m)\u001b[0m\u001b[0;34m\u001b[0m\u001b[0;34m\u001b[0m\u001b[0m\n",
      "\u001b[0;32m/home/gitlib/longsumm/bigbird/core/utils.py\u001b[0m in \u001b[0;36m__init__\u001b[0;34m(self, vocab_size, emb_dim, initializer, scale_emb, use_token_type, num_token_types, use_position_embeddings, max_position_embeddings, dropout_prob, name)\u001b[0m\n\u001b[1;32m    489\u001b[0m             self.word_embeddings = tf.compat.v1.get_variable(\n\u001b[1;32m    490\u001b[0m                 \u001b[0;34m\"word_embeddings\"\u001b[0m\u001b[0;34m,\u001b[0m \u001b[0;34m[\u001b[0m\u001b[0mvocab_size\u001b[0m\u001b[0;34m,\u001b[0m \u001b[0memb_dim\u001b[0m\u001b[0;34m]\u001b[0m\u001b[0;34m,\u001b[0m\u001b[0;34m\u001b[0m\u001b[0;34m\u001b[0m\u001b[0m\n\u001b[0;32m--> 491\u001b[0;31m                 dtype=tf.float32, initializer=initializer)\n\u001b[0m\u001b[1;32m    492\u001b[0m             \u001b[0mself\u001b[0m\u001b[0;34m.\u001b[0m\u001b[0m_trainable_weights\u001b[0m\u001b[0;34m.\u001b[0m\u001b[0mappend\u001b[0m\u001b[0;34m(\u001b[0m\u001b[0mself\u001b[0m\u001b[0;34m.\u001b[0m\u001b[0mword_embeddings\u001b[0m\u001b[0;34m)\u001b[0m\u001b[0;34m\u001b[0m\u001b[0;34m\u001b[0m\u001b[0m\n\u001b[1;32m    493\u001b[0m \u001b[0;34m\u001b[0m\u001b[0m\n",
      "\u001b[0;32m/usr/local/lib/python3.6/dist-packages/tensorflow/python/ops/variable_scope.py\u001b[0m in \u001b[0;36mget_variable\u001b[0;34m(name, shape, dtype, initializer, regularizer, trainable, collections, caching_device, partitioner, validate_shape, use_resource, custom_getter, constraint, synchronization, aggregation)\u001b[0m\n\u001b[1;32m   1591\u001b[0m       \u001b[0mconstraint\u001b[0m\u001b[0;34m=\u001b[0m\u001b[0mconstraint\u001b[0m\u001b[0;34m,\u001b[0m\u001b[0;34m\u001b[0m\u001b[0;34m\u001b[0m\u001b[0m\n\u001b[1;32m   1592\u001b[0m       \u001b[0msynchronization\u001b[0m\u001b[0;34m=\u001b[0m\u001b[0msynchronization\u001b[0m\u001b[0;34m,\u001b[0m\u001b[0;34m\u001b[0m\u001b[0;34m\u001b[0m\u001b[0m\n\u001b[0;32m-> 1593\u001b[0;31m       aggregation=aggregation)\n\u001b[0m\u001b[1;32m   1594\u001b[0m \u001b[0;34m\u001b[0m\u001b[0m\n\u001b[1;32m   1595\u001b[0m \u001b[0;34m\u001b[0m\u001b[0m\n",
      "\u001b[0;32m/usr/local/lib/python3.6/dist-packages/tensorflow/python/ops/variable_scope.py\u001b[0m in \u001b[0;36mget_variable\u001b[0;34m(self, var_store, name, shape, dtype, initializer, regularizer, reuse, trainable, collections, caching_device, partitioner, validate_shape, use_resource, custom_getter, constraint, synchronization, aggregation)\u001b[0m\n\u001b[1;32m   1334\u001b[0m           \u001b[0mconstraint\u001b[0m\u001b[0;34m=\u001b[0m\u001b[0mconstraint\u001b[0m\u001b[0;34m,\u001b[0m\u001b[0;34m\u001b[0m\u001b[0;34m\u001b[0m\u001b[0m\n\u001b[1;32m   1335\u001b[0m           \u001b[0msynchronization\u001b[0m\u001b[0;34m=\u001b[0m\u001b[0msynchronization\u001b[0m\u001b[0;34m,\u001b[0m\u001b[0;34m\u001b[0m\u001b[0;34m\u001b[0m\u001b[0m\n\u001b[0;32m-> 1336\u001b[0;31m           aggregation=aggregation)\n\u001b[0m\u001b[1;32m   1337\u001b[0m \u001b[0;34m\u001b[0m\u001b[0m\n\u001b[1;32m   1338\u001b[0m   def _get_partitioned_variable(self,\n",
      "\u001b[0;32m/usr/local/lib/python3.6/dist-packages/tensorflow/python/ops/variable_scope.py\u001b[0m in \u001b[0;36mget_variable\u001b[0;34m(self, name, shape, dtype, initializer, regularizer, reuse, trainable, collections, caching_device, partitioner, validate_shape, use_resource, custom_getter, constraint, synchronization, aggregation)\u001b[0m\n\u001b[1;32m    589\u001b[0m           \u001b[0mconstraint\u001b[0m\u001b[0;34m=\u001b[0m\u001b[0mconstraint\u001b[0m\u001b[0;34m,\u001b[0m\u001b[0;34m\u001b[0m\u001b[0;34m\u001b[0m\u001b[0m\n\u001b[1;32m    590\u001b[0m           \u001b[0msynchronization\u001b[0m\u001b[0;34m=\u001b[0m\u001b[0msynchronization\u001b[0m\u001b[0;34m,\u001b[0m\u001b[0;34m\u001b[0m\u001b[0;34m\u001b[0m\u001b[0m\n\u001b[0;32m--> 591\u001b[0;31m           aggregation=aggregation)\n\u001b[0m\u001b[1;32m    592\u001b[0m \u001b[0;34m\u001b[0m\u001b[0m\n\u001b[1;32m    593\u001b[0m   def _get_partitioned_variable(self,\n",
      "\u001b[0;32m/usr/local/lib/python3.6/dist-packages/tensorflow/python/ops/variable_scope.py\u001b[0m in \u001b[0;36m_true_getter\u001b[0;34m(name, shape, dtype, initializer, regularizer, reuse, trainable, collections, caching_device, partitioner, validate_shape, use_resource, constraint, synchronization, aggregation)\u001b[0m\n\u001b[1;32m    541\u001b[0m           \u001b[0mconstraint\u001b[0m\u001b[0;34m=\u001b[0m\u001b[0mconstraint\u001b[0m\u001b[0;34m,\u001b[0m\u001b[0;34m\u001b[0m\u001b[0;34m\u001b[0m\u001b[0m\n\u001b[1;32m    542\u001b[0m           \u001b[0msynchronization\u001b[0m\u001b[0;34m=\u001b[0m\u001b[0msynchronization\u001b[0m\u001b[0;34m,\u001b[0m\u001b[0;34m\u001b[0m\u001b[0;34m\u001b[0m\u001b[0m\n\u001b[0;32m--> 543\u001b[0;31m           aggregation=aggregation)\n\u001b[0m\u001b[1;32m    544\u001b[0m \u001b[0;34m\u001b[0m\u001b[0m\n\u001b[1;32m    545\u001b[0m     synchronization, aggregation, trainable = (\n",
      "\u001b[0;32m/usr/local/lib/python3.6/dist-packages/tensorflow/python/ops/variable_scope.py\u001b[0m in \u001b[0;36m_get_single_variable\u001b[0;34m(self, name, shape, dtype, initializer, regularizer, partition_info, reuse, trainable, collections, caching_device, validate_shape, use_resource, constraint, synchronization, aggregation)\u001b[0m\n\u001b[1;32m    959\u001b[0m         \u001b[0muse_resource\u001b[0m\u001b[0;34m=\u001b[0m\u001b[0muse_resource\u001b[0m\u001b[0;34m,\u001b[0m\u001b[0;34m\u001b[0m\u001b[0;34m\u001b[0m\u001b[0m\n\u001b[1;32m    960\u001b[0m         \u001b[0msynchronization\u001b[0m\u001b[0;34m=\u001b[0m\u001b[0msynchronization\u001b[0m\u001b[0;34m,\u001b[0m\u001b[0;34m\u001b[0m\u001b[0;34m\u001b[0m\u001b[0m\n\u001b[0;32m--> 961\u001b[0;31m         aggregation=aggregation)\n\u001b[0m\u001b[1;32m    962\u001b[0m     \u001b[0;32mif\u001b[0m \u001b[0mcontext\u001b[0m\u001b[0;34m.\u001b[0m\u001b[0mexecuting_eagerly\u001b[0m\u001b[0;34m(\u001b[0m\u001b[0;34m)\u001b[0m \u001b[0;32mand\u001b[0m \u001b[0mself\u001b[0m\u001b[0;34m.\u001b[0m\u001b[0m_store_eager_variables\u001b[0m\u001b[0;34m:\u001b[0m\u001b[0;34m\u001b[0m\u001b[0;34m\u001b[0m\u001b[0m\n\u001b[1;32m    963\u001b[0m       \u001b[0;32mif\u001b[0m \u001b[0mcollections\u001b[0m\u001b[0;34m:\u001b[0m\u001b[0;34m\u001b[0m\u001b[0;34m\u001b[0m\u001b[0m\n",
      "\u001b[0;32m/usr/local/lib/python3.6/dist-packages/tensorflow/python/ops/variables.py\u001b[0m in \u001b[0;36m__call__\u001b[0;34m(cls, *args, **kwargs)\u001b[0m\n\u001b[1;32m    258\u001b[0m   \u001b[0;32mdef\u001b[0m \u001b[0m__call__\u001b[0m\u001b[0;34m(\u001b[0m\u001b[0mcls\u001b[0m\u001b[0;34m,\u001b[0m \u001b[0;34m*\u001b[0m\u001b[0margs\u001b[0m\u001b[0;34m,\u001b[0m \u001b[0;34m**\u001b[0m\u001b[0mkwargs\u001b[0m\u001b[0;34m)\u001b[0m\u001b[0;34m:\u001b[0m\u001b[0;34m\u001b[0m\u001b[0;34m\u001b[0m\u001b[0m\n\u001b[1;32m    259\u001b[0m     \u001b[0;32mif\u001b[0m \u001b[0mcls\u001b[0m \u001b[0;32mis\u001b[0m \u001b[0mVariableV1\u001b[0m\u001b[0;34m:\u001b[0m\u001b[0;34m\u001b[0m\u001b[0;34m\u001b[0m\u001b[0m\n\u001b[0;32m--> 260\u001b[0;31m       \u001b[0;32mreturn\u001b[0m \u001b[0mcls\u001b[0m\u001b[0;34m.\u001b[0m\u001b[0m_variable_v1_call\u001b[0m\u001b[0;34m(\u001b[0m\u001b[0;34m*\u001b[0m\u001b[0margs\u001b[0m\u001b[0;34m,\u001b[0m \u001b[0;34m**\u001b[0m\u001b[0mkwargs\u001b[0m\u001b[0;34m)\u001b[0m\u001b[0;34m\u001b[0m\u001b[0;34m\u001b[0m\u001b[0m\n\u001b[0m\u001b[1;32m    261\u001b[0m     \u001b[0;32melif\u001b[0m \u001b[0mcls\u001b[0m \u001b[0;32mis\u001b[0m \u001b[0mVariable\u001b[0m\u001b[0;34m:\u001b[0m\u001b[0;34m\u001b[0m\u001b[0;34m\u001b[0m\u001b[0m\n\u001b[1;32m    262\u001b[0m       \u001b[0;32mreturn\u001b[0m \u001b[0mcls\u001b[0m\u001b[0;34m.\u001b[0m\u001b[0m_variable_v2_call\u001b[0m\u001b[0;34m(\u001b[0m\u001b[0;34m*\u001b[0m\u001b[0margs\u001b[0m\u001b[0;34m,\u001b[0m \u001b[0;34m**\u001b[0m\u001b[0mkwargs\u001b[0m\u001b[0;34m)\u001b[0m\u001b[0;34m\u001b[0m\u001b[0;34m\u001b[0m\u001b[0m\n",
      "\u001b[0;32m/usr/local/lib/python3.6/dist-packages/tensorflow/python/ops/variables.py\u001b[0m in \u001b[0;36m_variable_v1_call\u001b[0;34m(cls, initial_value, trainable, collections, validate_shape, caching_device, name, variable_def, dtype, expected_shape, import_scope, constraint, use_resource, synchronization, aggregation, shape)\u001b[0m\n\u001b[1;32m    219\u001b[0m         \u001b[0msynchronization\u001b[0m\u001b[0;34m=\u001b[0m\u001b[0msynchronization\u001b[0m\u001b[0;34m,\u001b[0m\u001b[0;34m\u001b[0m\u001b[0;34m\u001b[0m\u001b[0m\n\u001b[1;32m    220\u001b[0m         \u001b[0maggregation\u001b[0m\u001b[0;34m=\u001b[0m\u001b[0maggregation\u001b[0m\u001b[0;34m,\u001b[0m\u001b[0;34m\u001b[0m\u001b[0;34m\u001b[0m\u001b[0m\n\u001b[0;32m--> 221\u001b[0;31m         shape=shape)\n\u001b[0m\u001b[1;32m    222\u001b[0m \u001b[0;34m\u001b[0m\u001b[0m\n\u001b[1;32m    223\u001b[0m   def _variable_v2_call(cls,\n",
      "\u001b[0;32m/usr/local/lib/python3.6/dist-packages/tensorflow/python/ops/variables.py\u001b[0m in \u001b[0;36m<lambda>\u001b[0;34m(**kwargs)\u001b[0m\n\u001b[1;32m    197\u001b[0m                         shape=None):\n\u001b[1;32m    198\u001b[0m     \u001b[0;34m\"\"\"Call on Variable class. Useful to force the signature.\"\"\"\u001b[0m\u001b[0;34m\u001b[0m\u001b[0;34m\u001b[0m\u001b[0m\n\u001b[0;32m--> 199\u001b[0;31m     \u001b[0mprevious_getter\u001b[0m \u001b[0;34m=\u001b[0m \u001b[0;32mlambda\u001b[0m \u001b[0;34m**\u001b[0m\u001b[0mkwargs\u001b[0m\u001b[0;34m:\u001b[0m \u001b[0mdefault_variable_creator\u001b[0m\u001b[0;34m(\u001b[0m\u001b[0;32mNone\u001b[0m\u001b[0;34m,\u001b[0m \u001b[0;34m**\u001b[0m\u001b[0mkwargs\u001b[0m\u001b[0;34m)\u001b[0m\u001b[0;34m\u001b[0m\u001b[0;34m\u001b[0m\u001b[0m\n\u001b[0m\u001b[1;32m    200\u001b[0m     \u001b[0;32mfor\u001b[0m \u001b[0m_\u001b[0m\u001b[0;34m,\u001b[0m \u001b[0mgetter\u001b[0m \u001b[0;32min\u001b[0m \u001b[0mops\u001b[0m\u001b[0;34m.\u001b[0m\u001b[0mget_default_graph\u001b[0m\u001b[0;34m(\u001b[0m\u001b[0;34m)\u001b[0m\u001b[0;34m.\u001b[0m\u001b[0m_variable_creator_stack\u001b[0m\u001b[0;34m:\u001b[0m  \u001b[0;31m# pylint: disable=protected-access\u001b[0m\u001b[0;34m\u001b[0m\u001b[0;34m\u001b[0m\u001b[0m\n\u001b[1;32m    201\u001b[0m       \u001b[0mprevious_getter\u001b[0m \u001b[0;34m=\u001b[0m \u001b[0m_make_getter\u001b[0m\u001b[0;34m(\u001b[0m\u001b[0mgetter\u001b[0m\u001b[0;34m,\u001b[0m \u001b[0mprevious_getter\u001b[0m\u001b[0;34m)\u001b[0m\u001b[0;34m\u001b[0m\u001b[0;34m\u001b[0m\u001b[0m\n",
      "\u001b[0;32m/usr/local/lib/python3.6/dist-packages/tensorflow/python/ops/variable_scope.py\u001b[0m in \u001b[0;36mdefault_variable_creator\u001b[0;34m(next_creator, **kwargs)\u001b[0m\n\u001b[1;32m   2616\u001b[0m         \u001b[0msynchronization\u001b[0m\u001b[0;34m=\u001b[0m\u001b[0msynchronization\u001b[0m\u001b[0;34m,\u001b[0m\u001b[0;34m\u001b[0m\u001b[0;34m\u001b[0m\u001b[0m\n\u001b[1;32m   2617\u001b[0m         \u001b[0maggregation\u001b[0m\u001b[0;34m=\u001b[0m\u001b[0maggregation\u001b[0m\u001b[0;34m,\u001b[0m\u001b[0;34m\u001b[0m\u001b[0;34m\u001b[0m\u001b[0m\n\u001b[0;32m-> 2618\u001b[0;31m         shape=shape)\n\u001b[0m\u001b[1;32m   2619\u001b[0m   \u001b[0;32melse\u001b[0m\u001b[0;34m:\u001b[0m\u001b[0;34m\u001b[0m\u001b[0;34m\u001b[0m\u001b[0m\n\u001b[1;32m   2620\u001b[0m     return variables.RefVariable(\n",
      "\u001b[0;32m/usr/local/lib/python3.6/dist-packages/tensorflow/python/ops/variables.py\u001b[0m in \u001b[0;36m__call__\u001b[0;34m(cls, *args, **kwargs)\u001b[0m\n\u001b[1;32m    262\u001b[0m       \u001b[0;32mreturn\u001b[0m \u001b[0mcls\u001b[0m\u001b[0;34m.\u001b[0m\u001b[0m_variable_v2_call\u001b[0m\u001b[0;34m(\u001b[0m\u001b[0;34m*\u001b[0m\u001b[0margs\u001b[0m\u001b[0;34m,\u001b[0m \u001b[0;34m**\u001b[0m\u001b[0mkwargs\u001b[0m\u001b[0;34m)\u001b[0m\u001b[0;34m\u001b[0m\u001b[0;34m\u001b[0m\u001b[0m\n\u001b[1;32m    263\u001b[0m     \u001b[0;32melse\u001b[0m\u001b[0;34m:\u001b[0m\u001b[0;34m\u001b[0m\u001b[0;34m\u001b[0m\u001b[0m\n\u001b[0;32m--> 264\u001b[0;31m       \u001b[0;32mreturn\u001b[0m \u001b[0msuper\u001b[0m\u001b[0;34m(\u001b[0m\u001b[0mVariableMetaclass\u001b[0m\u001b[0;34m,\u001b[0m \u001b[0mcls\u001b[0m\u001b[0;34m)\u001b[0m\u001b[0;34m.\u001b[0m\u001b[0m__call__\u001b[0m\u001b[0;34m(\u001b[0m\u001b[0;34m*\u001b[0m\u001b[0margs\u001b[0m\u001b[0;34m,\u001b[0m \u001b[0;34m**\u001b[0m\u001b[0mkwargs\u001b[0m\u001b[0;34m)\u001b[0m\u001b[0;34m\u001b[0m\u001b[0;34m\u001b[0m\u001b[0m\n\u001b[0m\u001b[1;32m    265\u001b[0m \u001b[0;34m\u001b[0m\u001b[0m\n\u001b[1;32m    266\u001b[0m \u001b[0;34m\u001b[0m\u001b[0m\n",
      "\u001b[0;32m/usr/local/lib/python3.6/dist-packages/tensorflow/python/ops/resource_variable_ops.py\u001b[0m in \u001b[0;36m__init__\u001b[0;34m(self, initial_value, trainable, collections, validate_shape, caching_device, name, dtype, variable_def, import_scope, constraint, distribute_strategy, synchronization, aggregation, shape)\u001b[0m\n\u001b[1;32m   1583\u001b[0m           \u001b[0maggregation\u001b[0m\u001b[0;34m=\u001b[0m\u001b[0maggregation\u001b[0m\u001b[0;34m,\u001b[0m\u001b[0;34m\u001b[0m\u001b[0;34m\u001b[0m\u001b[0m\n\u001b[1;32m   1584\u001b[0m           \u001b[0mshape\u001b[0m\u001b[0;34m=\u001b[0m\u001b[0mshape\u001b[0m\u001b[0;34m,\u001b[0m\u001b[0;34m\u001b[0m\u001b[0;34m\u001b[0m\u001b[0m\n\u001b[0;32m-> 1585\u001b[0;31m           distribute_strategy=distribute_strategy)\n\u001b[0m\u001b[1;32m   1586\u001b[0m \u001b[0;34m\u001b[0m\u001b[0m\n\u001b[1;32m   1587\u001b[0m   def _init_from_args(self,\n",
      "\u001b[0;32m/usr/local/lib/python3.6/dist-packages/tensorflow/python/ops/resource_variable_ops.py\u001b[0m in \u001b[0;36m_init_from_args\u001b[0;34m(self, initial_value, trainable, collections, caching_device, name, dtype, constraint, synchronization, aggregation, distribute_strategy, shape)\u001b[0m\n\u001b[1;32m   1710\u001b[0m           \u001b[0;32mwith\u001b[0m \u001b[0mops\u001b[0m\u001b[0;34m.\u001b[0m\u001b[0mname_scope\u001b[0m\u001b[0;34m(\u001b[0m\u001b[0;34m\"Initializer\"\u001b[0m\u001b[0;34m)\u001b[0m\u001b[0;34m,\u001b[0m \u001b[0mdevice_context_manager\u001b[0m\u001b[0;34m(\u001b[0m\u001b[0;32mNone\u001b[0m\u001b[0;34m)\u001b[0m\u001b[0;34m:\u001b[0m\u001b[0;34m\u001b[0m\u001b[0;34m\u001b[0m\u001b[0m\n\u001b[1;32m   1711\u001b[0m             \u001b[0;32mif\u001b[0m \u001b[0minit_from_fn\u001b[0m\u001b[0;34m:\u001b[0m\u001b[0;34m\u001b[0m\u001b[0;34m\u001b[0m\u001b[0m\n\u001b[0;32m-> 1712\u001b[0;31m               \u001b[0minitial_value\u001b[0m \u001b[0;34m=\u001b[0m \u001b[0minitial_value\u001b[0m\u001b[0;34m(\u001b[0m\u001b[0;34m)\u001b[0m\u001b[0;34m\u001b[0m\u001b[0;34m\u001b[0m\u001b[0m\n\u001b[0m\u001b[1;32m   1713\u001b[0m             \u001b[0;32mif\u001b[0m \u001b[0misinstance\u001b[0m\u001b[0;34m(\u001b[0m\u001b[0minitial_value\u001b[0m\u001b[0;34m,\u001b[0m \u001b[0mtrackable\u001b[0m\u001b[0;34m.\u001b[0m\u001b[0mCheckpointInitialValue\u001b[0m\u001b[0;34m)\u001b[0m\u001b[0;34m:\u001b[0m\u001b[0;34m\u001b[0m\u001b[0;34m\u001b[0m\u001b[0m\n\u001b[1;32m   1714\u001b[0m               \u001b[0mself\u001b[0m\u001b[0;34m.\u001b[0m\u001b[0m_maybe_initialize_trackable\u001b[0m\u001b[0;34m(\u001b[0m\u001b[0;34m)\u001b[0m\u001b[0;34m\u001b[0m\u001b[0;34m\u001b[0m\u001b[0m\n",
      "\u001b[0;32m/usr/local/lib/python3.6/dist-packages/tensorflow/python/ops/init_ops.py\u001b[0m in \u001b[0;36m__call__\u001b[0;34m(self, shape, dtype, partition_info)\u001b[0m\n\u001b[1;32m    353\u001b[0m       \u001b[0mdtype\u001b[0m \u001b[0;34m=\u001b[0m \u001b[0mself\u001b[0m\u001b[0;34m.\u001b[0m\u001b[0mdtype\u001b[0m\u001b[0;34m\u001b[0m\u001b[0;34m\u001b[0m\u001b[0m\n\u001b[1;32m    354\u001b[0m     return random_ops.truncated_normal(\n\u001b[0;32m--> 355\u001b[0;31m         shape, self.mean, self.stddev, dtype, seed=self.seed)\n\u001b[0m\u001b[1;32m    356\u001b[0m \u001b[0;34m\u001b[0m\u001b[0m\n\u001b[1;32m    357\u001b[0m   \u001b[0;32mdef\u001b[0m \u001b[0mget_config\u001b[0m\u001b[0;34m(\u001b[0m\u001b[0mself\u001b[0m\u001b[0;34m)\u001b[0m\u001b[0;34m:\u001b[0m\u001b[0;34m\u001b[0m\u001b[0;34m\u001b[0m\u001b[0m\n",
      "\u001b[0;32m/usr/local/lib/python3.6/dist-packages/tensorflow/python/util/dispatch.py\u001b[0m in \u001b[0;36mwrapper\u001b[0;34m(*args, **kwargs)\u001b[0m\n\u001b[1;32m    199\u001b[0m     \u001b[0;34m\"\"\"Call target, and fall back on dispatchers if there is a TypeError.\"\"\"\u001b[0m\u001b[0;34m\u001b[0m\u001b[0;34m\u001b[0m\u001b[0m\n\u001b[1;32m    200\u001b[0m     \u001b[0;32mtry\u001b[0m\u001b[0;34m:\u001b[0m\u001b[0;34m\u001b[0m\u001b[0;34m\u001b[0m\u001b[0m\n\u001b[0;32m--> 201\u001b[0;31m       \u001b[0;32mreturn\u001b[0m \u001b[0mtarget\u001b[0m\u001b[0;34m(\u001b[0m\u001b[0;34m*\u001b[0m\u001b[0margs\u001b[0m\u001b[0;34m,\u001b[0m \u001b[0;34m**\u001b[0m\u001b[0mkwargs\u001b[0m\u001b[0;34m)\u001b[0m\u001b[0;34m\u001b[0m\u001b[0;34m\u001b[0m\u001b[0m\n\u001b[0m\u001b[1;32m    202\u001b[0m     \u001b[0;32mexcept\u001b[0m \u001b[0;34m(\u001b[0m\u001b[0mTypeError\u001b[0m\u001b[0;34m,\u001b[0m \u001b[0mValueError\u001b[0m\u001b[0;34m)\u001b[0m\u001b[0;34m:\u001b[0m\u001b[0;34m\u001b[0m\u001b[0;34m\u001b[0m\u001b[0m\n\u001b[1;32m    203\u001b[0m       \u001b[0;31m# Note: convert_to_eager_tensor currently raises a ValueError, not a\u001b[0m\u001b[0;34m\u001b[0m\u001b[0;34m\u001b[0m\u001b[0;34m\u001b[0m\u001b[0m\n",
      "\u001b[0;32m/usr/local/lib/python3.6/dist-packages/tensorflow/python/ops/random_ops.py\u001b[0m in \u001b[0;36mtruncated_normal\u001b[0;34m(shape, mean, stddev, dtype, seed, name)\u001b[0m\n\u001b[1;32m    190\u001b[0m   \"\"\"\n\u001b[1;32m    191\u001b[0m   \u001b[0;32mwith\u001b[0m \u001b[0mops\u001b[0m\u001b[0;34m.\u001b[0m\u001b[0mname_scope\u001b[0m\u001b[0;34m(\u001b[0m\u001b[0mname\u001b[0m\u001b[0;34m,\u001b[0m \u001b[0;34m\"truncated_normal\"\u001b[0m\u001b[0;34m,\u001b[0m \u001b[0;34m[\u001b[0m\u001b[0mshape\u001b[0m\u001b[0;34m,\u001b[0m \u001b[0mmean\u001b[0m\u001b[0;34m,\u001b[0m \u001b[0mstddev\u001b[0m\u001b[0;34m]\u001b[0m\u001b[0;34m)\u001b[0m \u001b[0;32mas\u001b[0m \u001b[0mname\u001b[0m\u001b[0;34m:\u001b[0m\u001b[0;34m\u001b[0m\u001b[0;34m\u001b[0m\u001b[0m\n\u001b[0;32m--> 192\u001b[0;31m     \u001b[0mshape_tensor\u001b[0m \u001b[0;34m=\u001b[0m \u001b[0mtensor_util\u001b[0m\u001b[0;34m.\u001b[0m\u001b[0mshape_tensor\u001b[0m\u001b[0;34m(\u001b[0m\u001b[0mshape\u001b[0m\u001b[0;34m)\u001b[0m\u001b[0;34m\u001b[0m\u001b[0;34m\u001b[0m\u001b[0m\n\u001b[0m\u001b[1;32m    193\u001b[0m     \u001b[0mmean_tensor\u001b[0m \u001b[0;34m=\u001b[0m \u001b[0mops\u001b[0m\u001b[0;34m.\u001b[0m\u001b[0mconvert_to_tensor\u001b[0m\u001b[0;34m(\u001b[0m\u001b[0mmean\u001b[0m\u001b[0;34m,\u001b[0m \u001b[0mdtype\u001b[0m\u001b[0;34m=\u001b[0m\u001b[0mdtype\u001b[0m\u001b[0;34m,\u001b[0m \u001b[0mname\u001b[0m\u001b[0;34m=\u001b[0m\u001b[0;34m\"mean\"\u001b[0m\u001b[0;34m)\u001b[0m\u001b[0;34m\u001b[0m\u001b[0;34m\u001b[0m\u001b[0m\n\u001b[1;32m    194\u001b[0m     \u001b[0mstddev_tensor\u001b[0m \u001b[0;34m=\u001b[0m \u001b[0mops\u001b[0m\u001b[0;34m.\u001b[0m\u001b[0mconvert_to_tensor\u001b[0m\u001b[0;34m(\u001b[0m\u001b[0mstddev\u001b[0m\u001b[0;34m,\u001b[0m \u001b[0mdtype\u001b[0m\u001b[0;34m=\u001b[0m\u001b[0mdtype\u001b[0m\u001b[0;34m,\u001b[0m \u001b[0mname\u001b[0m\u001b[0;34m=\u001b[0m\u001b[0;34m\"stddev\"\u001b[0m\u001b[0;34m)\u001b[0m\u001b[0;34m\u001b[0m\u001b[0;34m\u001b[0m\u001b[0m\n",
      "\u001b[0;32m/usr/local/lib/python3.6/dist-packages/tensorflow/python/framework/tensor_util.py\u001b[0m in \u001b[0;36mshape_tensor\u001b[0;34m(shape)\u001b[0m\n\u001b[1;32m   1033\u001b[0m       \u001b[0;31m# not convertible to Tensors because of mixed content.\u001b[0m\u001b[0;34m\u001b[0m\u001b[0;34m\u001b[0m\u001b[0;34m\u001b[0m\u001b[0m\n\u001b[1;32m   1034\u001b[0m       \u001b[0mshape\u001b[0m \u001b[0;34m=\u001b[0m \u001b[0mtuple\u001b[0m\u001b[0;34m(\u001b[0m\u001b[0mmap\u001b[0m\u001b[0;34m(\u001b[0m\u001b[0mtensor_shape\u001b[0m\u001b[0;34m.\u001b[0m\u001b[0mdimension_value\u001b[0m\u001b[0;34m,\u001b[0m \u001b[0mshape\u001b[0m\u001b[0;34m)\u001b[0m\u001b[0;34m)\u001b[0m\u001b[0;34m\u001b[0m\u001b[0;34m\u001b[0m\u001b[0m\n\u001b[0;32m-> 1035\u001b[0;31m   \u001b[0;32mreturn\u001b[0m \u001b[0mops\u001b[0m\u001b[0;34m.\u001b[0m\u001b[0mconvert_to_tensor\u001b[0m\u001b[0;34m(\u001b[0m\u001b[0mshape\u001b[0m\u001b[0;34m,\u001b[0m \u001b[0mdtype\u001b[0m\u001b[0;34m=\u001b[0m\u001b[0mdtype\u001b[0m\u001b[0;34m,\u001b[0m \u001b[0mname\u001b[0m\u001b[0;34m=\u001b[0m\u001b[0;34m\"shape\"\u001b[0m\u001b[0;34m)\u001b[0m\u001b[0;34m\u001b[0m\u001b[0;34m\u001b[0m\u001b[0m\n\u001b[0m\u001b[1;32m   1036\u001b[0m \u001b[0;34m\u001b[0m\u001b[0m\n\u001b[1;32m   1037\u001b[0m \u001b[0;34m\u001b[0m\u001b[0m\n",
      "\u001b[0;32m/usr/local/lib/python3.6/dist-packages/tensorflow/python/profiler/trace.py\u001b[0m in \u001b[0;36mwrapped\u001b[0;34m(*args, **kwargs)\u001b[0m\n\u001b[1;32m    161\u001b[0m         \u001b[0;32mwith\u001b[0m \u001b[0mTrace\u001b[0m\u001b[0;34m(\u001b[0m\u001b[0mtrace_name\u001b[0m\u001b[0;34m,\u001b[0m \u001b[0;34m**\u001b[0m\u001b[0mtrace_kwargs\u001b[0m\u001b[0;34m)\u001b[0m\u001b[0;34m:\u001b[0m\u001b[0;34m\u001b[0m\u001b[0;34m\u001b[0m\u001b[0m\n\u001b[1;32m    162\u001b[0m           \u001b[0;32mreturn\u001b[0m \u001b[0mfunc\u001b[0m\u001b[0;34m(\u001b[0m\u001b[0;34m*\u001b[0m\u001b[0margs\u001b[0m\u001b[0;34m,\u001b[0m \u001b[0;34m**\u001b[0m\u001b[0mkwargs\u001b[0m\u001b[0;34m)\u001b[0m\u001b[0;34m\u001b[0m\u001b[0;34m\u001b[0m\u001b[0m\n\u001b[0;32m--> 163\u001b[0;31m       \u001b[0;32mreturn\u001b[0m \u001b[0mfunc\u001b[0m\u001b[0;34m(\u001b[0m\u001b[0;34m*\u001b[0m\u001b[0margs\u001b[0m\u001b[0;34m,\u001b[0m \u001b[0;34m**\u001b[0m\u001b[0mkwargs\u001b[0m\u001b[0;34m)\u001b[0m\u001b[0;34m\u001b[0m\u001b[0;34m\u001b[0m\u001b[0m\n\u001b[0m\u001b[1;32m    164\u001b[0m \u001b[0;34m\u001b[0m\u001b[0m\n\u001b[1;32m    165\u001b[0m     \u001b[0;32mreturn\u001b[0m \u001b[0mwrapped\u001b[0m\u001b[0;34m\u001b[0m\u001b[0;34m\u001b[0m\u001b[0m\n",
      "\u001b[0;32m/usr/local/lib/python3.6/dist-packages/tensorflow/python/framework/ops.py\u001b[0m in \u001b[0;36mconvert_to_tensor\u001b[0;34m(value, dtype, name, as_ref, preferred_dtype, dtype_hint, ctx, accepted_result_types)\u001b[0m\n\u001b[1;32m   1538\u001b[0m \u001b[0;34m\u001b[0m\u001b[0m\n\u001b[1;32m   1539\u001b[0m     \u001b[0;32mif\u001b[0m \u001b[0mret\u001b[0m \u001b[0;32mis\u001b[0m \u001b[0;32mNone\u001b[0m\u001b[0;34m:\u001b[0m\u001b[0;34m\u001b[0m\u001b[0;34m\u001b[0m\u001b[0m\n\u001b[0;32m-> 1540\u001b[0;31m       \u001b[0mret\u001b[0m \u001b[0;34m=\u001b[0m \u001b[0mconversion_func\u001b[0m\u001b[0;34m(\u001b[0m\u001b[0mvalue\u001b[0m\u001b[0;34m,\u001b[0m \u001b[0mdtype\u001b[0m\u001b[0;34m=\u001b[0m\u001b[0mdtype\u001b[0m\u001b[0;34m,\u001b[0m \u001b[0mname\u001b[0m\u001b[0;34m=\u001b[0m\u001b[0mname\u001b[0m\u001b[0;34m,\u001b[0m \u001b[0mas_ref\u001b[0m\u001b[0;34m=\u001b[0m\u001b[0mas_ref\u001b[0m\u001b[0;34m)\u001b[0m\u001b[0;34m\u001b[0m\u001b[0;34m\u001b[0m\u001b[0m\n\u001b[0m\u001b[1;32m   1541\u001b[0m \u001b[0;34m\u001b[0m\u001b[0m\n\u001b[1;32m   1542\u001b[0m     \u001b[0;32mif\u001b[0m \u001b[0mret\u001b[0m \u001b[0;32mis\u001b[0m \u001b[0mNotImplemented\u001b[0m\u001b[0;34m:\u001b[0m\u001b[0;34m\u001b[0m\u001b[0;34m\u001b[0m\u001b[0m\n",
      "\u001b[0;32m/usr/local/lib/python3.6/dist-packages/tensorflow/python/framework/constant_op.py\u001b[0m in \u001b[0;36m_constant_tensor_conversion_function\u001b[0;34m(v, dtype, name, as_ref)\u001b[0m\n\u001b[1;32m    337\u001b[0m                                          as_ref=False):\n\u001b[1;32m    338\u001b[0m   \u001b[0m_\u001b[0m \u001b[0;34m=\u001b[0m \u001b[0mas_ref\u001b[0m\u001b[0;34m\u001b[0m\u001b[0;34m\u001b[0m\u001b[0m\n\u001b[0;32m--> 339\u001b[0;31m   \u001b[0;32mreturn\u001b[0m \u001b[0mconstant\u001b[0m\u001b[0;34m(\u001b[0m\u001b[0mv\u001b[0m\u001b[0;34m,\u001b[0m \u001b[0mdtype\u001b[0m\u001b[0;34m=\u001b[0m\u001b[0mdtype\u001b[0m\u001b[0;34m,\u001b[0m \u001b[0mname\u001b[0m\u001b[0;34m=\u001b[0m\u001b[0mname\u001b[0m\u001b[0;34m)\u001b[0m\u001b[0;34m\u001b[0m\u001b[0;34m\u001b[0m\u001b[0m\n\u001b[0m\u001b[1;32m    340\u001b[0m \u001b[0;34m\u001b[0m\u001b[0m\n\u001b[1;32m    341\u001b[0m \u001b[0;34m\u001b[0m\u001b[0m\n",
      "\u001b[0;32m/usr/local/lib/python3.6/dist-packages/tensorflow/python/framework/constant_op.py\u001b[0m in \u001b[0;36mconstant\u001b[0;34m(value, dtype, shape, name)\u001b[0m\n\u001b[1;32m    263\u001b[0m   \"\"\"\n\u001b[1;32m    264\u001b[0m   return _constant_impl(value, dtype, shape, name, verify_shape=False,\n\u001b[0;32m--> 265\u001b[0;31m                         allow_broadcast=True)\n\u001b[0m\u001b[1;32m    266\u001b[0m \u001b[0;34m\u001b[0m\u001b[0m\n\u001b[1;32m    267\u001b[0m \u001b[0;34m\u001b[0m\u001b[0m\n",
      "\u001b[0;32m/usr/local/lib/python3.6/dist-packages/tensorflow/python/framework/constant_op.py\u001b[0m in \u001b[0;36m_constant_impl\u001b[0;34m(value, dtype, shape, name, verify_shape, allow_broadcast)\u001b[0m\n\u001b[1;32m    274\u001b[0m       \u001b[0;32mwith\u001b[0m \u001b[0mtrace\u001b[0m\u001b[0;34m.\u001b[0m\u001b[0mTrace\u001b[0m\u001b[0;34m(\u001b[0m\u001b[0;34m\"tf.constant\"\u001b[0m\u001b[0;34m)\u001b[0m\u001b[0;34m:\u001b[0m\u001b[0;34m\u001b[0m\u001b[0;34m\u001b[0m\u001b[0m\n\u001b[1;32m    275\u001b[0m         \u001b[0;32mreturn\u001b[0m \u001b[0m_constant_eager_impl\u001b[0m\u001b[0;34m(\u001b[0m\u001b[0mctx\u001b[0m\u001b[0;34m,\u001b[0m \u001b[0mvalue\u001b[0m\u001b[0;34m,\u001b[0m \u001b[0mdtype\u001b[0m\u001b[0;34m,\u001b[0m \u001b[0mshape\u001b[0m\u001b[0;34m,\u001b[0m \u001b[0mverify_shape\u001b[0m\u001b[0;34m)\u001b[0m\u001b[0;34m\u001b[0m\u001b[0;34m\u001b[0m\u001b[0m\n\u001b[0;32m--> 276\u001b[0;31m     \u001b[0;32mreturn\u001b[0m \u001b[0m_constant_eager_impl\u001b[0m\u001b[0;34m(\u001b[0m\u001b[0mctx\u001b[0m\u001b[0;34m,\u001b[0m \u001b[0mvalue\u001b[0m\u001b[0;34m,\u001b[0m \u001b[0mdtype\u001b[0m\u001b[0;34m,\u001b[0m \u001b[0mshape\u001b[0m\u001b[0;34m,\u001b[0m \u001b[0mverify_shape\u001b[0m\u001b[0;34m)\u001b[0m\u001b[0;34m\u001b[0m\u001b[0;34m\u001b[0m\u001b[0m\n\u001b[0m\u001b[1;32m    277\u001b[0m \u001b[0;34m\u001b[0m\u001b[0m\n\u001b[1;32m    278\u001b[0m   \u001b[0mg\u001b[0m \u001b[0;34m=\u001b[0m \u001b[0mops\u001b[0m\u001b[0;34m.\u001b[0m\u001b[0mget_default_graph\u001b[0m\u001b[0;34m(\u001b[0m\u001b[0;34m)\u001b[0m\u001b[0;34m\u001b[0m\u001b[0;34m\u001b[0m\u001b[0m\n",
      "\u001b[0;32m/usr/local/lib/python3.6/dist-packages/tensorflow/python/framework/constant_op.py\u001b[0m in \u001b[0;36m_constant_eager_impl\u001b[0;34m(ctx, value, dtype, shape, verify_shape)\u001b[0m\n\u001b[1;32m    299\u001b[0m \u001b[0;32mdef\u001b[0m \u001b[0m_constant_eager_impl\u001b[0m\u001b[0;34m(\u001b[0m\u001b[0mctx\u001b[0m\u001b[0;34m,\u001b[0m \u001b[0mvalue\u001b[0m\u001b[0;34m,\u001b[0m \u001b[0mdtype\u001b[0m\u001b[0;34m,\u001b[0m \u001b[0mshape\u001b[0m\u001b[0;34m,\u001b[0m \u001b[0mverify_shape\u001b[0m\u001b[0;34m)\u001b[0m\u001b[0;34m:\u001b[0m\u001b[0;34m\u001b[0m\u001b[0;34m\u001b[0m\u001b[0m\n\u001b[1;32m    300\u001b[0m   \u001b[0;34m\"\"\"Implementation of eager constant.\"\"\"\u001b[0m\u001b[0;34m\u001b[0m\u001b[0;34m\u001b[0m\u001b[0m\n\u001b[0;32m--> 301\u001b[0;31m   \u001b[0mt\u001b[0m \u001b[0;34m=\u001b[0m \u001b[0mconvert_to_eager_tensor\u001b[0m\u001b[0;34m(\u001b[0m\u001b[0mvalue\u001b[0m\u001b[0;34m,\u001b[0m \u001b[0mctx\u001b[0m\u001b[0;34m,\u001b[0m \u001b[0mdtype\u001b[0m\u001b[0;34m)\u001b[0m\u001b[0;34m\u001b[0m\u001b[0;34m\u001b[0m\u001b[0m\n\u001b[0m\u001b[1;32m    302\u001b[0m   \u001b[0;32mif\u001b[0m \u001b[0mshape\u001b[0m \u001b[0;32mis\u001b[0m \u001b[0;32mNone\u001b[0m\u001b[0;34m:\u001b[0m\u001b[0;34m\u001b[0m\u001b[0;34m\u001b[0m\u001b[0m\n\u001b[1;32m    303\u001b[0m     \u001b[0;32mreturn\u001b[0m \u001b[0mt\u001b[0m\u001b[0;34m\u001b[0m\u001b[0;34m\u001b[0m\u001b[0m\n",
      "\u001b[0;32m/usr/local/lib/python3.6/dist-packages/tensorflow/python/framework/constant_op.py\u001b[0m in \u001b[0;36mconvert_to_eager_tensor\u001b[0;34m(value, ctx, dtype)\u001b[0m\n\u001b[1;32m     95\u001b[0m     \u001b[0;32mexcept\u001b[0m \u001b[0mAttributeError\u001b[0m\u001b[0;34m:\u001b[0m\u001b[0;34m\u001b[0m\u001b[0;34m\u001b[0m\u001b[0m\n\u001b[1;32m     96\u001b[0m       \u001b[0mdtype\u001b[0m \u001b[0;34m=\u001b[0m \u001b[0mdtypes\u001b[0m\u001b[0;34m.\u001b[0m\u001b[0mas_dtype\u001b[0m\u001b[0;34m(\u001b[0m\u001b[0mdtype\u001b[0m\u001b[0;34m)\u001b[0m\u001b[0;34m.\u001b[0m\u001b[0mas_datatype_enum\u001b[0m\u001b[0;34m\u001b[0m\u001b[0;34m\u001b[0m\u001b[0m\n\u001b[0;32m---> 97\u001b[0;31m   \u001b[0mctx\u001b[0m\u001b[0;34m.\u001b[0m\u001b[0mensure_initialized\u001b[0m\u001b[0;34m(\u001b[0m\u001b[0;34m)\u001b[0m\u001b[0;34m\u001b[0m\u001b[0;34m\u001b[0m\u001b[0m\n\u001b[0m\u001b[1;32m     98\u001b[0m   \u001b[0;32mreturn\u001b[0m \u001b[0mops\u001b[0m\u001b[0;34m.\u001b[0m\u001b[0mEagerTensor\u001b[0m\u001b[0;34m(\u001b[0m\u001b[0mvalue\u001b[0m\u001b[0;34m,\u001b[0m \u001b[0mctx\u001b[0m\u001b[0;34m.\u001b[0m\u001b[0mdevice_name\u001b[0m\u001b[0;34m,\u001b[0m \u001b[0mdtype\u001b[0m\u001b[0;34m)\u001b[0m\u001b[0;34m\u001b[0m\u001b[0;34m\u001b[0m\u001b[0m\n\u001b[1;32m     99\u001b[0m \u001b[0;34m\u001b[0m\u001b[0m\n",
      "\u001b[0;32m/usr/local/lib/python3.6/dist-packages/tensorflow/python/eager/context.py\u001b[0m in \u001b[0;36mensure_initialized\u001b[0;34m(self)\u001b[0m\n\u001b[1;32m    524\u001b[0m         \u001b[0;32mif\u001b[0m \u001b[0mself\u001b[0m\u001b[0;34m.\u001b[0m\u001b[0m_use_tfrt\u001b[0m \u001b[0;32mis\u001b[0m \u001b[0;32mnot\u001b[0m \u001b[0;32mNone\u001b[0m\u001b[0;34m:\u001b[0m\u001b[0;34m\u001b[0m\u001b[0;34m\u001b[0m\u001b[0m\n\u001b[1;32m    525\u001b[0m           \u001b[0mpywrap_tfe\u001b[0m\u001b[0;34m.\u001b[0m\u001b[0mTFE_ContextOptionsSetTfrt\u001b[0m\u001b[0;34m(\u001b[0m\u001b[0mopts\u001b[0m\u001b[0;34m,\u001b[0m \u001b[0mself\u001b[0m\u001b[0;34m.\u001b[0m\u001b[0m_use_tfrt\u001b[0m\u001b[0;34m)\u001b[0m\u001b[0;34m\u001b[0m\u001b[0;34m\u001b[0m\u001b[0m\n\u001b[0;32m--> 526\u001b[0;31m         \u001b[0mcontext_handle\u001b[0m \u001b[0;34m=\u001b[0m \u001b[0mpywrap_tfe\u001b[0m\u001b[0;34m.\u001b[0m\u001b[0mTFE_NewContext\u001b[0m\u001b[0;34m(\u001b[0m\u001b[0mopts\u001b[0m\u001b[0;34m)\u001b[0m\u001b[0;34m\u001b[0m\u001b[0;34m\u001b[0m\u001b[0m\n\u001b[0m\u001b[1;32m    527\u001b[0m       \u001b[0;32mfinally\u001b[0m\u001b[0;34m:\u001b[0m\u001b[0;34m\u001b[0m\u001b[0;34m\u001b[0m\u001b[0m\n\u001b[1;32m    528\u001b[0m         \u001b[0mpywrap_tfe\u001b[0m\u001b[0;34m.\u001b[0m\u001b[0mTFE_DeleteContextOptions\u001b[0m\u001b[0;34m(\u001b[0m\u001b[0mopts\u001b[0m\u001b[0;34m)\u001b[0m\u001b[0;34m\u001b[0m\u001b[0;34m\u001b[0m\u001b[0m\n",
      "\u001b[0;31mInternalError\u001b[0m: CUDA runtime implicit initialization on GPU:0 failed. Status: all CUDA-capable devices are busy or unavailable"
     ],
     "ename": "InternalError",
     "evalue": "CUDA runtime implicit initialization on GPU:0 failed. Status: all CUDA-capable devices are busy or unavailable",
     "output_type": "error"
    }
   ],
   "source": [
    "with container.as_default():\n",
    "  model = modeling.TransformerModel(transformer_config)"
   ]
  },
  {
   "cell_type": "code",
   "execution_count": null,
   "metadata": {
    "id": "DXOY78vbqHX9"
   },
   "outputs": [],
   "source": [
    "@tf.function(experimental_compile=True)\n",
    "def fwd_bwd(features, labels):\n",
    "  with tf.GradientTape() as g:\n",
    "    (llh, logits, pred_ids), _ = model(features, target_ids=labels,\n",
    "                                       training=True)\n",
    "    loss = run_summarization.padded_cross_entropy_loss(\n",
    "        logits, labels,\n",
    "        transformer_config[\"label_smoothing\"],\n",
    "        transformer_config[\"vocab_size\"])\n",
    "  grads = g.gradient(loss, model.trainable_weights)\n",
    "  return loss, llh, logits, pred_ids, grads"
   ]
  },
  {
   "cell_type": "markdown",
   "metadata": {
    "id": "DzoTMyQlxsRo"
   },
   "source": [
    "## Dataset pipeline"
   ]
  },
  {
   "cell_type": "code",
   "execution_count": null,
   "metadata": {
    "id": "Oo-NQTDZZs51"
   },
   "outputs": [],
   "source": [
    "train_input_fn = run_summarization.input_fn_builder(\n",
    "        data_dir=FLAGS.data_dir,\n",
    "        vocab_model_file=FLAGS.vocab_model_file,\n",
    "        max_encoder_length=FLAGS.max_encoder_length,\n",
    "        max_decoder_length=FLAGS.max_decoder_length,\n",
    "        substitute_newline=FLAGS.substitute_newline,\n",
    "        is_training=True)\n",
    "dataset = train_input_fn({'batch_size': 2})"
   ]
  },
  {
   "cell_type": "code",
   "execution_count": null,
   "metadata": {
    "id": "hRvmfaNUi-V5"
   },
   "outputs": [],
   "source": [
    "# inspect at a few examples\n",
    "for ex in dataset.take(3):\n",
    "  print(ex)"
   ]
  },
  {
   "cell_type": "markdown",
   "metadata": {
    "id": "lYCyGH56zOOU"
   },
   "source": [
    "## Check outputs"
   ]
  },
  {
   "cell_type": "code",
   "execution_count": null,
   "metadata": {
    "id": "5uQOwyGQzRKt"
   },
   "outputs": [],
   "source": [
    "with container.as_default():\n",
    "  loss, llh, logits, pred_ids, grads = fwd_bwd(ex[0], ex[1])\n",
    "print('Loss: ', loss)"
   ]
  },
  {
   "cell_type": "markdown",
   "metadata": {
    "id": "Qz_LdCCdyDCR"
   },
   "source": [
    "## (Optionally) Load pretrained model"
   ]
  },
  {
   "cell_type": "code",
   "execution_count": null,
   "metadata": {
    "id": "rRa2dD1RzLN4"
   },
   "outputs": [],
   "source": [
    "# For training from scratch use\n",
    "# ckpt_path = 'gs://bigbird-transformer/pretrain/bigbr_base/model.ckpt-0'\n",
    "# For quick check continue from trained checkpoint\n",
    "ckpt_path = 'gs://bigbird-transformer/summarization/pubmed/roberta/model.ckpt-300000'\n",
    "ckpt_reader = tf.compat.v1.train.NewCheckpointReader(ckpt_path)\n",
    "loaded_weights = []\n",
    "for v in tqdm(model.trainable_weights, position=0):\n",
    "  try:\n",
    "    val = ckpt_reader.get_tensor(v.name[:-2])\n",
    "  except:\n",
    "    val = v.numpy()\n",
    "  loaded_weights.append(val)\n",
    "\n",
    "model.set_weights(loaded_weights)"
   ]
  },
  {
   "cell_type": "markdown",
   "metadata": {
    "id": "r6-BziYxzL3U"
   },
   "source": [
    "## Train"
   ]
  },
  {
   "cell_type": "code",
   "execution_count": null,
   "metadata": {
    "id": "IWjkDvu9k7ie"
   },
   "outputs": [],
   "source": [
    "opt = tf.keras.optimizers.Adam(FLAGS.learning_rate)\n",
    "train_loss = tf.keras.metrics.Mean(name='train_loss')\n",
    "\n",
    "for i, ex in enumerate(tqdm(dataset.take(FLAGS.num_train_steps), position=0)):\n",
    "  loss, llh, logits, pred_ids, grads = fwd_bwd(ex[0], ex[1])\n",
    "  opt.apply_gradients(zip(grads, model.trainable_weights))\n",
    "  train_loss(loss)\n",
    "  if i% 10 == 0:\n",
    "    print('Loss = {} '.format(train_loss.result().numpy()))"
   ]
  },
  {
   "cell_type": "markdown",
   "metadata": {
    "id": "mXjkdtyKMAbP"
   },
   "source": [
    "## Eval"
   ]
  },
  {
   "cell_type": "code",
   "execution_count": null,
   "metadata": {
    "id": "cc3OatxlMCk3"
   },
   "outputs": [],
   "source": [
    "@tf.function(experimental_compile=True)\n",
    "def fwd_only(features, labels):\n",
    "  (llh, logits, pred_ids), _ = model(features, target_ids=labels,\n",
    "                                       training=False)\n",
    "  return llh, logits, pred_ids"
   ]
  },
  {
   "cell_type": "code",
   "execution_count": null,
   "metadata": {
    "id": "-Mq_xhMzef42"
   },
   "outputs": [],
   "source": [
    "eval_input_fn = run_summarization.input_fn_builder(\n",
    "        data_dir=FLAGS.data_dir,\n",
    "        vocab_model_file=FLAGS.vocab_model_file,\n",
    "        max_encoder_length=FLAGS.max_encoder_length,\n",
    "        max_decoder_length=FLAGS.max_decoder_length,\n",
    "        substitute_newline=FLAGS.substitute_newline,\n",
    "        is_training=False)\n",
    "eval_dataset = eval_input_fn({'batch_size': 2})"
   ]
  },
  {
   "cell_type": "code",
   "execution_count": null,
   "metadata": {
    "id": "rqPN4R8kerUG"
   },
   "outputs": [],
   "source": [
    "eval_llh = tf.keras.metrics.Mean(name='eval_llh')\n",
    "\n",
    "for ex in tqdm(eval_dataset, position=0):\n",
    "  llh, logits, pred_ids = fwd_only(ex[0], ex[1])\n",
    "  eval_llh(llh)\n",
    "print('Log Likelihood = {}'.format(eval_llh.result().numpy()))"
   ]
  },
  {
   "cell_type": "markdown",
   "metadata": {
    "id": "SA-MksK2DEOn"
   },
   "source": [
    "### Print predictions"
   ]
  },
  {
   "cell_type": "code",
   "execution_count": null,
   "metadata": {
    "id": "a-FD37ZLxr8R"
   },
   "outputs": [],
   "source": [
    "tokenizer = tft.SentencepieceTokenizer(\n",
    "        model=tf.io.gfile.GFile(FLAGS.vocab_model_file, \"rb\").read())"
   ]
  },
  {
   "cell_type": "code",
   "execution_count": null,
   "metadata": {
    "id": "8RXHSgpKFG1F"
   },
   "outputs": [],
   "source": [
    "_, _, pred_ids = fwd_only(ex[0], ex[1])"
   ]
  },
  {
   "cell_type": "code",
   "execution_count": null,
   "metadata": {
    "colab": {
     "base_uri": "https://localhost:8080/"
    },
    "executionInfo": {
     "elapsed": 365,
     "status": "ok",
     "timestamp": 1607929344388,
     "user": {
      "displayName": "Manzil Zaheer",
      "photoUrl": "",
      "userId": "06259716656099187509"
     },
     "user_tz": 480
    },
    "id": "BvEFgoXJxQOa",
    "outputId": "72d452bd-c64c-46a2-a1ee-2aa398f6f2cd"
   },
   "outputs": [
    {
     "name": "stdout",
     "output_type": "stream",
     "text": [
      "Article:\n",
      " [b'although injuries to the flexor tendons in the zone ii region look trivial , sustained commitment of the patient , the surgeon and the therapist is necessary to get a reasonable functional outcome . as our institute \\xe2\\x81\\x87 is situated in an industrial corridor of the city , most of our patients are manual workers with poor compliance . conforming to the established practice , we tried various early mobilization protocols after zone ii flexor tendon repair . \\xe2\\x81\\x87 as these protocols demanded a level of understanding and a degree of dedication from the patients , our results were suboptimal , with a high incidence of proximal interphalangeal joint ( pip ) joint flexion contractures and tendon ruptures . \\xe2\\x81\\x87 hence , in our institute immobilization became the norm for patients who were not expected to be compliant . \\xe2\\x81\\x87 to improve the results in such patients , we thought of implementing a new rehabilitation protocol that could entirely be under the control of the therapist , without the active participation of the patient . \\xe2\\x81\\x87 ultrasound therapy is being used safely after tendon repair , during the remodeling phase ( after three weeks ) as an adjunct to mobilization to improve the tendon gliding . \\xe2\\x81\\x87 we thought of using this mode of treatment during the earlier phase of tendon healing . \\xe2\\x81\\x87 such findings formed the basis , for the use of ultrasound to accelerate tendon healing and to prevent adhesions . \\xe2\\x81\\x87 though many clinical trials on animals are reported in the literature , there is no clinical study in the humans regarding the use of ultrasound during the early healing phase of the repaired tendons . \\xe2\\x81\\x87 encouraged by the in vitro and in vivo animal studies , we conducted the trial by selecting the patients at random and administered pulsed ultrasound therapy of different frequencies and intensities . \\xe2\\x81\\x87 the results of the ultrasound therapy in the three groups were analyzed and compared with each other and also with the immobilization group . \\xe2\\x81\\x87 this is a prospective study , done over a period of 5 years from january 2008 to january 2013 , involving a total of 100 patients and 139 digits with zone ii flexor tendon injuries . \\xe2\\x81\\x87 patients with isolated injury to the fds or fdp tendon , multiple level injuries of the flexor tendons , associated injury to the extensor apparatus and fractures were excluded . \\xe2\\x81\\x87 all the cases were operated as emergency procedures by senior residents and hence , for tendon repair technically less demanding two - strand modified kessler mason suture was used . after surgery , patients were allocated to ultrasound therapy , as demonstrated in the consort guideline flowchart [ figure 1 ] . \\xe2\\x81\\x87 the patients were asked to draw a card indiscriminately from an envelope containing a pack of cards labeled as ultrasound or immobilization in 2:1 ratio . \\xe2\\x81\\x87 thus , the treatment groups were randomized and the therapists had no control over the selection of the patients . \\xe2\\x81\\x87 after surgery , hands were immobilized for 3 weeks using dorsal slab with wrist kept in neutral position , mp joints in 70 degrees flexion and ip joints in extension . \\xe2\\x81\\x87 after 3 weeks , pop slab was removed and the patients were advised to attend therapy daily . from 3 to 6 weeks the therapy consisted of scar massage , active mobilization exercises , blocking exercises and place hold techniques . after 6 weeks , passive stretching and resisted exercises were added . \\xe2\\x81\\x87 after 8 weeks , the patients were allowed to lift weights and to join work . by this protocol \\xe2\\x81\\x87 after surgery hands were immobilized using dorsal slab with wrist in neutral , mp joints in 70 degrees flexion and ip joints in extension . with the dorsal splint in place , the dressings on the volar aspect were removed . \\xe2\\x81\\x87 the ultrasonic treatment head was placed over the site of tendon repair and gently moved in order to iron out the irregularities in the near field and to avoid standing waves due to reflection . \\xe2\\x81\\x87 the ultrasonic head was applied gently and moved continuously over the region of tendon repair to begin with , since january 2008 , ultrasound of 1-mhz frequency at an intensity of 0.7 w / cm was administered from the seventh postoperative day . \\xe2\\x81\\x87 twenty - six patients with involvement of a total of thirty eight digits were treated . \\xe2\\x81\\x87 twelve patients had associated digital nerve involvement . with the idea of further refining the technique , since august 2010 \\xe2\\x81\\x87 , we started ultrasound therapy of 1-mhz frequency at an intensity of 0.3 w / cm from the third postoperative day . \\xe2\\x81\\x87 we reduced the intensity due to fear of impaired skin healing as we had started the therapy earlier than the first group . \\xe2\\x81\\x87 as there was significant reduction in the percentage of excellent results in group 2 , from october 2011 , ultrasound therapy of 3 mhz frequency at an intensity of 0.5 w / cm was administered from the fifth postoperative day . due to cases of wound dehiscence \\xe2\\x81\\x87 this protocol was started for 27 patients with involvement of a total of 33 fingers . \\xe2\\x81\\x87 three patients developed wound dehiscence within 2 days of starting ultrasound therapy and were dropped from the study . out of 24 patients , 21 were males and 3 were females . \\xe2\\x81\\x87 the splint was removed after 3 weeks and mobilization programe was commenced in addition to the ultrasound therapy . \\xe2\\x81\\x87 active ranges of movements at pip and dip joints were measured after 3 weeks and at weekly intervals . \\xe2\\x81\\x87 after surgery , hands were immobilized for 3 weeks using dorsal slab with wrist kept in neutral position , mp joints in 70 degrees flexion and ip joints in extension . \\xe2\\x81\\x87 after 3 weeks , pop slab was removed and the patients were advised to attend therapy daily . from 3 to 6 weeks the therapy consisted of scar massage , active mobilization exercises , blocking exercises and place hold techniques . after 6 weeks , passive stretching and resisted exercises were added . after 8 weeks \\xe2\\x81\\x87 , the patients were allowed to lift weights and to join work . by this protocol \\xe2\\x81\\x87 after surgery hands were immobilized using dorsal slab with wrist in neutral , mp joints in 70 degrees flexion and ip joints in extension . with the dorsal splint in place , the dressings on the volar aspect were removed . \\xe2\\x81\\x87 the ultrasonic treatment head was placed over the site of tendon repair and gently moved in order to iron out the irregularities in the near field and to avoid standing waves due to reflection . \\xe2\\x81\\x87 the ultrasonic head was applied gently and moved continuously over the region of tendon repair to begin with , since january 2008 , ultrasound of 1-mhz frequency at an intensity of 0.7 w / cm was administered from the seventh postoperative day . \\xe2\\x81\\x87 twenty - six patients with involvement of a total of thirty eight digits were treated . \\xe2\\x81\\x87 twelve patients had associated digital nerve involvement . with the idea of further refining the technique , since august 2010 \\xe2\\x81\\x87 , we started ultrasound therapy of 1-mhz frequency at an intensity of 0.3 w / cm from the third postoperative day . \\xe2\\x81\\x87 we reduced the intensity due to fear of impaired skin healing as we had started the therapy earlier than the first group . \\xe2\\x81\\x87 one patient developed wound dehiscence and was dropped from the study . out of 18 patients , 15 were males and 3 were females . \\xe2\\x81\\x87 six patients had digital nerve involvement . as there was significant reduction in the percentage of excellent results in group 2 , from october 2011 , ultrasound therapy of 3 mhz frequency at an intensity of 0.5 w / cm \\xe2\\x81\\x87 this protocol was started for 27 patients with involvement of a total of 33 fingers . \\xe2\\x81\\x87 three patients developed wound dehiscence within 2 days of starting ultrasound therapy and were dropped from the study . out of 24 patients , 21 were males and 3 were females . \\xe2\\x81\\x87 in all the ultrasound therapy groups , the splint was removed after 3 weeks and mobilization programe was commenced in addition to the ultrasound therapy . \\xe2\\x81\\x87 to begin with , since january 2008 , ultrasound of 1-mhz frequency at an intensity of 0.7 w / cm was administered from the seventh postoperative day . \\xe2\\x81\\x87 twenty - six patients with involvement of a total of thirty eight digits were treated . \\xe2\\x81\\x87 with the idea of further refining the technique , since august 2010 , we started ultrasound therapy of 1-mhz frequency at an intensity of 0.3 w / cm from the third postoperative day . \\xe2\\x81\\x87 we reduced the intensity due to fear of impaired skin healing as we had started the therapy earlier than the first group . \\xe2\\x81\\x87 one patient developed wound dehiscence and was dropped from the study . out of 18 patients , 15 were males and 3 were females . \\xe2\\x81\\x87 as there was significant reduction in the percentage of excellent results in group 2 , from october 2011 , ultrasound therapy of 3 mhz frequency at an intensity of 0.5 w / cm was administered from the fifth postoperative day . due to cases of wound dehiscence \\xe2\\x81\\x87 this protocol was started for 27 patients with involvement of a total of 33 fingers . \\xe2\\x81\\x87 three patients developed wound dehiscence within 2 days of starting ultrasound therapy and were dropped from the study . out of 24 patients , 21 were males and 3 were females . \\xe2\\x81\\x87 the splint was removed after 3 weeks and mobilization programe was commenced in addition to the ultrasound therapy . \\xe2\\x81\\x87 active ranges of movements at pip and dip joints were measured after 3 weeks and at weekly intervals . \\xe2\\x81\\x87 the patients who were dropped from the study due to wound complications in the early phase were not included in the analysis of the results . \\xe2\\x81\\x87 comparison of results between various protocols by the end of 3 months is given in tables 1 and 2 . \\xe2\\x81\\x87 comparison of results between various protocols at 3 months ( original strickland ) comparison of excellent and good results in various protocols ( original strickland ) in ultrasound therapy group 1 protocol , out of 36 digits , 16 digits achieved pip + dip joint flexion range between 150 and 175 and 10 digits between 125 and 150 in 8 weeks time . \\xe2\\x81\\x87 the range in the remaining digits was between 90 and 120. extensor lag was nil in 34 digits by the end of 6 weeks . by the end of 8 weeks , none of the digits had extensor lag . \\xe2\\x81\\x87 grip strength of 95% compared to normal hand was achieved by 16 digits and 10 digits achieved grip strength of 80% compared to normal hand by the end of 12 weeks . in ultrasound therapy group 2 protocol , \\xe2\\x81\\x87 out of 27 digits , 13 digits achieved pip + dip'\n",
      " b'although resin composite materials have improved considerably since their introduction , their polymerization shrinkage remains a problem . \\xe2\\x81\\x87 this shrinkage could cause tensile stress and consequent debonding at the tooth - composite interface , which may lead to recurrent caries , postoperative sensitivity , and microleakage . \\xe2\\x81\\x87 several approaches have been proposed to minimize the polymerization shrinkage , such as using an initial low - intensity curing light exposure , incremental placement technique , and applying an intermediate low elastic modulus liner . \\xe2\\x81\\x87 use of low - shrinkage composites is one of the other approaches to control polymerization contraction stress . \\xe2\\x81\\x87 silorane , a new class of ring - opening monomers , is derived from the combination of oxiranes and siloxanes , combining the properties of both , such as hydrophobicity , biocompatibility and low shrinkage . \\xe2\\x81\\x87 previous studies have indicated better enamel and dentin marginal integrity of silorane compared to methacrylate - based composites , while others reported that silorane did not provide better marginal integrity than the methacrylate - based composites . \\xe2\\x81\\x87 other resin composites ( kalore gc , grandio and aelite ls posterior ) used in this study was low shrinkage methacrylate - based composites . \\xe2\\x81\\x87 weakening of the adhesive resin due to cyclic loading is an important issue in restorative dentistry . \\xe2\\x81\\x87 some studies reported increased microleakage of the composite restorations under cyclic loading while others indicated that cyclic loading did not affect the microleakage and marginal integrity of composite restorations . \\xe2\\x81\\x87 scanning electron microscopic ( sem ) evaluation is the gold standard for determination of microleakage in indirect and directly placed adhesive restorations . \\xe2\\x81\\x87 sem - investigation on marginal adaptation of class v cavities might be performed easier because of the smaller size of the cavity and is therefore used more commonly . \\xe2\\x81\\x87 the aim of the current study was to evaluate the effect of cyclic loading on the microleakage of silorane based composite compared with low shrinkage methacrylate - based composites in class v cavities . \\xe2\\x81\\x87 in this experimental study 48 extracted intact human maxillary premolars , without caries , cracks or previous restorations were used . \\xe2\\x81\\x87 the teeth were immersed in 0.5% chloramine t at 4c for 1 week and then stored in physiologic normal saline solution until use . \\xe2\\x81\\x87 class v cavities ( occluso - gingival length of 3 mm , the mesiodistal width of 3 mm , and 1 mm dentinal depth ) were prepared on the buccal and lingual surfaces of the teeth using tapered fissure diamond bur ( tizkavan , tehran , iran ) with water - cooled high - speed handpiece . \\xe2\\x81\\x87 a 0.5 mm , 45c bevel was placed on the enamel margins using a flame - shaped diamond bur ( diatech dental ag ) while gingival margins were prepared at 90c with the external surface . \\xe2\\x81\\x87 the prepared teeth were randomly divided into four groups of 12 teeth each ( 24 cavities ) . \\xe2\\x81\\x87 materials used in this study and their chemical composition in all groups , 37% phosphoric acid gel ( total etch , ivoclar vivadent ) was applied to the enamel part of the cavity for 15 s , rinsed for 15 s and excess water was removed with a light air stream to achieve a moist surface and then restored as follows :  \\xe2\\x81\\x87  group 1 ( siloran system adhesive + filtek p90 ) : the silorane self ecth primer ( 3 m espe , dental product , st paul , usa ) was applied and agitated on dentinal surfaces of cavity for 15 s , gently air - dried , light - cured for 20 s using a led light - curing unit ( guilin woodpecker medical instrument co. , china ) at 900 mw / cm intensity , as checked with a radiometer ( led radiometer demetron , kerr , usa ) after every 10 uses , and the silorane bond was then applied on all surfaces of cavity followed by a gentle stream of air , and cured for 20 s. then each cavity was filled with filtek p90 a3.5 shade composite ( 3 m espe , dental product , st paul , usa ) . in all groups , \\xe2\\x81\\x87 the cavities were filled in three increments : the first increment on the axial wall , the second increment was placed from about the midpoint of the gingival wall to the occlusal cavosurface margin and the third increment filled the remaining of preparation , and each increment was cured for 40 sgroup 2 ( all bond se + aelite ls posterior ) : all bond se ( bisco inc . , schaumburg , usa ) was applied and agitated for 10 s , gently air dried for 5 s and then air dried with greater pressure completely . \\xe2\\x81\\x87 another layer of bonding was applied and the process was repeated again and light cured for 20 s. then each cavity was filled with three layers of aelite ls posterior a3.5 shade composite ( bisco inc . , schaumburg , usa ) and each increment was cured for 40 sgroup 3 ( futurabond nr + grandio ) : a moderately thin layer of futurabond nr ( voco cuxhaven , germany ) was applied for 20 s and air dried for 10 s. another layer of bonding was applied and the process was repeated again and light cured for 20 s. then each cavity was filled with three layers of grandio a3.5 shade composite ( voco cuxhaven , germany ) and each increment was cured for 40 sgroup 4 ( g - bond + kalore - gc ) : g - bond ( gc corporation , tokyo , japan ) was applied and left undisturbed for 10 s. then air dried for 5 s. another layer of g - bond was applied and the process was repeated again and light cured for 20 s. then each cavity was filled with three layers of kalore - gc a3.5 shade composite ( gc corporation , tokyo , japan ) and each increment was cured for 40 s.  \\xe2\\x81\\x87  group 1 ( siloran system adhesive + filtek p90 ) : the silorane self ecth primer ( 3 m espe , dental product , st paul , usa ) was applied and agitated on dentinal surfaces of cavity for 15 s , gently air - dried , light - cured for 20 s using a led light - curing unit ( guilin woodpecker medical instrument co. , china ) at 900 mw / cm intensity , as checked with a radiometer ( led radiometer demetron , kerr , usa ) after every 10 uses , and the silorane bond was then applied on all surfaces of cavity followed by a gentle stream of air , and cured for 20 s. then each cavity was filled with filtek p90 a3.5 shade composite ( 3 m espe , dental product , st paul , usa ) . in all groups , \\xe2\\x81\\x87 the cavities were filled in three increments : the first increment on the axial wall , the second increment was placed from about the midpoint of the gingival wall to the occlusal cavosurface margin and the third increment filled the remaining of preparation , and each increment was cured for 40 s group 2 ( all bond se + aelite ls posterior ) : all bond se ( bisco inc . , schaumburg , usa ) was applied and agitated for 10 s , gently air dried for 5 s and then air dried with greater pressure completely . \\xe2\\x81\\x87 another layer of bonding was applied and the process was repeated again and light cured for 20 s. then each cavity was filled with three layers of aelite ls posterior a3.5 shade composite ( bisco inc . , schaumburg , usa ) and each increment was cured for 40 s group 3 ( futurabond nr + grandio ) : a moderately thin layer of futurabond nr ( voco cuxhaven , germany ) was applied for 20 s and air dried for 10 s. another layer of bonding was applied and the process was repeated again and light cured for 20 s. then each cavity was filled with three layers of grandio a3.5 shade composite ( voco cuxhaven , germany ) and each increment was cured for 40 s group 4 ( g - bond + kalore - gc ) : g - bond ( gc corporation , tokyo , japan ) was applied and left undisturbed for 10 s. then air dried for 5 s. another layer of g - bond was applied and the process was repeated again and light cured for 20 s. then each cavity was filled with three layers of kalore - gc a3.5 shade composite ( gc corporation , tokyo , japan ) and each increment was cured for 40 s. all specimens were finished using fine - grit finishing diamond burs ( diatech dental ag , heerbrug , switzerland ) and polished with sequential disks ( optidisk , kerr , usa ) ( 15 s in each margin ) . \\xe2\\x81\\x87 after storage in an incubator ( malek - teb , iran ) at 37c for 24 h , all teeth were subjected to 2000 thermal cycles of 5c/55c , with a dwell time of 30 s in each bath and a transfer time of 10 s ( malek - teb , iran ) . \\xe2\\x81\\x87 then in each group , half of the teeth ( n = 6 ) were stored in an incubator at 37c and the others were load cycled ( germany , sd mekanotronik ) , as follows : initially , a cylindrical tube was coated with a layer of wax , then the teeth were mounted']\n",
      "\n",
      " Predicted summary:\n",
      " [b'background : zone ii flexor tendon repair after zone ii flexor tendon repair is a challenging procedure .  \\xe2\\x81\\x87  the aim of this study was to evaluate the effectiveness of ultrasound therapy of different frequencies and intensities during the early healing phase of zone ii flexor tendon repair.materials and methods : in this prospective study , we randomly divided 24 patients with zone ii flexor tendon injuries between january 2008 and january 2013 .  \\xe2\\x81\\x87  after surgery , patients were allocated to ultrasound therapy of different frequencies and intensities of ultrasound therapy .  \\xe2\\x81\\x87  ultrasound therapy of 1-mhz frequency at an intensity of 0.7 w / cm2 at an intensity of 0.5 w / cm2 at an intensity of 0.5 w / cm2 at an intensity of 0.5 w / cm2 at an intensity of 0.5 w / cm2 at an intensity of 0.5 w / cm2 at a intensity of 0.5 w / cm2 at a intensity of 0.5 w / cm2 at the intensity of 0.5 w / cm2 was started .  \\xe2\\x81\\x87  ultrasound therapy of 1-mhz frequency at an intensity of 0.5 w / cm2 at an intensity of 0.5 w / cm2 was started from the fifth'\n",
      " b'objective : the aim of this study was to evaluate the effect of cyclic loading on the microleakage of silorane - based composite compared to low shrinkage methacrylate - based composites.materials and methods : in this experimental study 48 extracted human maxillary premolars were randomly divided into four groups ( n = 12 ) .  \\xe2\\x81\\x87  each cavity was filled with the silorane self ecth primer ( voco cuxhaven , germany ) and composite ( kalore gc , grandio and aelite ls posterior ) .  \\xe2\\x81\\x87  then the teeth were subjected to 2000 thermal cycles of 5c/55c and 2000 thermal cycles of 5c/55c with a 30 s dwell time of 30 s. all teeth were subjected to 2000 thermal cycles of 5c/55c and a 30 s dwell time of 10 s. all teeth were subjected to 2000 thermal cycles of 5c/55c and a 30 s dwell time of 10 s. all teeth were subjected to 2000 thermal cycles of 5c/55c and a 30 s dwell time of 10 s. all teeth were subjected to 2000 thermal cycles of 2000 thermal cycles of 5 s/55c and a 30 s dwell time of 10 s .  \\xe2\\x81\\x87 ']\n",
      "\n",
      " Ground truth summary:\n",
      " [b'background : in our institute , most of the patients treated for hand injuries were industrial workers with poor compliance . for rehabilitation after zone ii flexor tendon repair , we had tried various early mobilization protocols . as these protocols demanded a degree of commitment from the patients , our results were suboptimal . hence , to improve the results  \\xe2\\x81\\x87  , we implemented a new rehabilitation protocol by administering the pulsed ultrasound therapy during the early phase of tendon healing.materials and methods : this is a prospective study done over a period of five years from january 2008 to january 2013 .  \\xe2\\x81\\x87  a total of 100 patients and 139 digits with zone ii flexor tendon injuries were studied .  \\xe2\\x81\\x87  after randomization , we administered pulsed ultrasound therapy of different frequencies and intensities for a total of 72 patients and 99 digits and formulated three groups .  \\xe2\\x81\\x87  the results of ultrasound treated cases were compared with each other and with the results of cases treated by immobilization protocol .  \\xe2\\x81\\x87  the results were analyzed using  \\xe2\\x81\\x87  original strickland criteria.results:72% excellent - good results in ultrasound ( group 1 ) protocol , 75% excellent - good results in ultrasound ( group 2 ) protocol , and 77% excellent - good results in ultrasound ( group 3 ) protocol were achieved .  \\xe2\\x81\\x87 '\n",
      " b'background : there are many concerns regarding the marginal seal of composite restorations , especially when composite restorations are subjected to cyclic loading .  \\xe2\\x81\\x87  the aim of this study was to evaluate the effect of cyclic loading on the microleakage of silorane based composite compared with low shrinkage methacrylate - based composites in class v cavities.materials and methods : in this in vitro study , class v cavities were prepared on the facial and lingual surfaces of 48 human premolars ( 96 cavities ) .  \\xe2\\x81\\x87  the teeth were randomly divided into four groups of 12 teeth ( 24 cavities ) each and restored as follows : group 1 ( siloran system adhesive + filtek p90 ) , group 2 ( all bond se + aelite ls posterior ) , group 3 ( futurabond nr + grandio ) , and group 4 ( g - bond + kalore - gc ) .  \\xe2\\x81\\x87  all the specimens were thermocycled for 2000 cycles ( 5 - 55c ) and then half of the specimens from each group , were load cycled .  \\xe2\\x81\\x87  all teeth were immersed in 0.5% basic fuchsine dye , sectioned , and observed under a stereomicr']\n",
      "\n",
      "\n"
     ]
    }
   ],
   "source": [
    "print('Article:\\n {}\\n\\n Predicted summary:\\n {}\\n\\n Ground truth summary:\\n {}\\n\\n'.format(\n",
    "    tokenizer.detokenize(ex[0]),\n",
    "    tokenizer.detokenize(pred_ids),\n",
    "    tokenizer.detokenize(ex[1])))"
   ]
  },
  {
   "cell_type": "code",
   "execution_count": null,
   "metadata": {
    "id": "2r55AitoHmmv"
   },
   "outputs": [],
   "source": [
    ""
   ]
  }
 ],
 "metadata": {
  "accelerator": "GPU",
  "colab": {
   "collapsed_sections": [],
   "last_runtime": {},
   "name": "BigBirdGPU.ipynb"
  },
  "kernelspec": {
   "display_name": "Python 3",
   "name": "python3"
  },
  "pycharm": {
   "stem_cell": {
    "cell_type": "raw",
    "source": [],
    "metadata": {
     "collapsed": false
    }
   }
  }
 },
 "nbformat": 4,
 "nbformat_minor": 0
}